{
 "cells": [
  {
   "cell_type": "code",
   "execution_count": 345,
   "metadata": {},
   "outputs": [],
   "source": [
    "import numpy as np"
   ]
  },
  {
   "cell_type": "markdown",
   "metadata": {},
   "source": [
    "# 1) arange method "
   ]
  },
  {
   "cell_type": "code",
   "execution_count": 346,
   "metadata": {
    "scrolled": true
   },
   "outputs": [
    {
     "name": "stdout",
     "output_type": "stream",
     "text": [
      "[ True  True  True ... False False False]\n",
      "[   1    3    5 ... 9995 9997 9999]\n",
      "[   0    1    2 ... 4997 4998 4999]\n",
      "[   0    1    2 ... 9997 9998 9999]\n"
     ]
    },
    {
     "data": {
      "text/plain": [
       "5000"
      ]
     },
     "execution_count": 346,
     "metadata": {},
     "output_type": "execute_result"
    }
   ],
   "source": [
    "a = np.arange(10000)                 #array of 10000 values(0-9999)\n",
    "a1 = np.arange(len(a))[:5000]        #array of same length as a but sliced down to 5000 values(0-4999)\n",
    "a2 = np.arange(1,10000,2)            #array of 5000 values(1-9999 both inclusive) with a gap of 2\n",
    "a3 = a<5000                          #boolean valued array with True for placevalues holding value lesser than 5000 in a \n",
    "print(a3)\n",
    "print(a2)\n",
    "print(a1)\n",
    "print(a)\n",
    "len(a2)"
   ]
  },
  {
   "cell_type": "markdown",
   "metadata": {},
   "source": [
    "# 2) reshape method"
   ]
  },
  {
   "cell_type": "code",
   "execution_count": 347,
   "metadata": {
    "scrolled": false
   },
   "outputs": [
    {
     "name": "stdout",
     "output_type": "stream",
     "text": [
      "[[   0    1    2 ...   97   98   99]\n",
      " [ 100  101  102 ...  197  198  199]\n",
      " [ 200  201  202 ...  297  298  299]\n",
      " ...\n",
      " [9700 9701 9702 ... 9797 9798 9799]\n",
      " [9800 9801 9802 ... 9897 9898 9899]\n",
      " [9900 9901 9902 ... 9997 9998 9999]]\n",
      "[[ 0  1  2  3  4  5  6  7  8  9]\n",
      " [10 11 12 13 14 15 16 17 18 19]\n",
      " [20 21 22 23 24 25 26 27 28 29]\n",
      " [30 31 32 33 34 35 36 37 38 39]\n",
      " [40 41 42 43 44 45 46 47 48 49]\n",
      " [50 51 52 53 54 55 56 57 58 59]\n",
      " [60 61 62 63 64 65 66 67 68 69]\n",
      " [70 71 72 73 74 75 76 77 78 79]\n",
      " [80 81 82 83 84 85 86 87 88 89]\n",
      " [90 91 92 93 94 95 96 97 98 99]]\n"
     ]
    },
    {
     "data": {
      "text/plain": [
       "array([[[ 0,  1],\n",
       "        [ 2,  3],\n",
       "        [ 4,  5]],\n",
       "\n",
       "       [[ 6,  7],\n",
       "        [ 8,  9],\n",
       "        [10, 11]],\n",
       "\n",
       "       [[12, 13],\n",
       "        [14, 15],\n",
       "        [16, 17]]])"
      ]
     },
     "execution_count": 347,
     "metadata": {},
     "output_type": "execute_result"
    }
   ],
   "source": [
    "a = a.reshape(100,100)   #2-d array\n",
    "print(a)\n",
    "b = a[0].reshape(10,10)  #2-d array\n",
    "print(b)\n",
    "a1 = np.arange(18).reshape(3,3,2) #3-d array\n",
    "a1"
   ]
  },
  {
   "cell_type": "markdown",
   "metadata": {},
   "source": [
    "# 3) ndim attribute"
   ]
  },
  {
   "cell_type": "code",
   "execution_count": 348,
   "metadata": {
    "scrolled": false
   },
   "outputs": [
    {
     "name": "stdout",
     "output_type": "stream",
     "text": [
      "2\n"
     ]
    },
    {
     "data": {
      "text/plain": [
       "2"
      ]
     },
     "execution_count": 348,
     "metadata": {},
     "output_type": "execute_result"
    }
   ],
   "source": [
    "print(a.ndim)    #tells array dimensions\n",
    "b.ndim"
   ]
  },
  {
   "cell_type": "markdown",
   "metadata": {},
   "source": [
    "# 4) array method "
   ]
  },
  {
   "cell_type": "code",
   "execution_count": 349,
   "metadata": {},
   "outputs": [
    {
     "data": {
      "text/plain": [
       "array([[ 1.+0.j,  2.+0.j,  3.+0.j,  4.+0.j,  5.+0.j,  6.+0.j],\n",
       "       [ 7.+0.j,  8.+0.j,  9.+0.j, 10.+0.j, 11.+0.j, 12.+0.j],\n",
       "       [13.+0.j, 14.+0.j, 15.+0.j, 16.+0.j, 17.+0.j, 18.+0.j],\n",
       "       [19.+0.j, 20.+0.j, 21.+0.j, 22.+0.j, 23.+0.j, 24.+0.j],\n",
       "       [25.+0.j, 26.+0.j, 27.+0.j, 28.+0.j, 29.+0.j, 30.+0.j],\n",
       "       [31.+0.j, 32.+0.j, 33.+0.j, 34.+0.j, 35.+0.j, 36.+0.j]])"
      ]
     },
     "execution_count": 349,
     "metadata": {},
     "output_type": "execute_result"
    }
   ],
   "source": [
    "c = np.array(np.arange(1,37), complex).reshape(6,6)\n",
    "c"
   ]
  },
  {
   "cell_type": "markdown",
   "metadata": {},
   "source": [
    "# 5) shape attribute"
   ]
  },
  {
   "cell_type": "code",
   "execution_count": 350,
   "metadata": {},
   "outputs": [
    {
     "name": "stdout",
     "output_type": "stream",
     "text": [
      "(100, 100)\n",
      "(10, 10)\n",
      "(6, 6)\n"
     ]
    }
   ],
   "source": [
    "#Dimension of ndarray (cols,rows)\n",
    "print(a.shape)\n",
    "print(b.shape)\n",
    "print(c.shape)"
   ]
  },
  {
   "cell_type": "markdown",
   "metadata": {},
   "source": [
    "# 6) dtype or dtype.name attribute"
   ]
  },
  {
   "cell_type": "code",
   "execution_count": 351,
   "metadata": {},
   "outputs": [
    {
     "name": "stdout",
     "output_type": "stream",
     "text": [
      "int32\n",
      "int32\n",
      "complex128\n"
     ]
    }
   ],
   "source": [
    "#Datatype\n",
    "print(a.dtype.name)\n",
    "print(b.dtype)\n",
    "print(c.dtype)"
   ]
  },
  {
   "cell_type": "markdown",
   "metadata": {},
   "source": [
    "# 7) itemsize attribute"
   ]
  },
  {
   "cell_type": "code",
   "execution_count": 352,
   "metadata": {},
   "outputs": [
    {
     "name": "stdout",
     "output_type": "stream",
     "text": [
      "4\n",
      "4\n",
      "16\n"
     ]
    }
   ],
   "source": [
    "#size in bytes\n",
    "print(a.itemsize) \n",
    "print(b.itemsize)\n",
    "print(c.itemsize)"
   ]
  },
  {
   "cell_type": "markdown",
   "metadata": {},
   "source": [
    "# 8) zeros method"
   ]
  },
  {
   "cell_type": "code",
   "execution_count": 353,
   "metadata": {},
   "outputs": [
    {
     "data": {
      "text/plain": [
       "array([[0, 0, 0, 0, 0, 0, 0, 0, 0],\n",
       "       [0, 0, 0, 0, 0, 0, 0, 0, 0],\n",
       "       [0, 0, 0, 0, 0, 0, 0, 0, 0]], dtype=int8)"
      ]
     },
     "execution_count": 353,
     "metadata": {},
     "output_type": "execute_result"
    }
   ],
   "source": [
    "#Creating arrays of all zeros\n",
    "d = np.zeros((3,9), dtype=np.int8)\n",
    "d"
   ]
  },
  {
   "cell_type": "markdown",
   "metadata": {},
   "source": [
    "# 9) ones method"
   ]
  },
  {
   "cell_type": "code",
   "execution_count": 354,
   "metadata": {},
   "outputs": [
    {
     "data": {
      "text/plain": [
       "array([[1, 1, 1, 1],\n",
       "       [1, 1, 1, 1],\n",
       "       [1, 1, 1, 1],\n",
       "       [1, 1, 1, 1],\n",
       "       [1, 1, 1, 1],\n",
       "       [1, 1, 1, 1]], dtype=uint8)"
      ]
     },
     "execution_count": 354,
     "metadata": {},
     "output_type": "execute_result"
    }
   ],
   "source": [
    "#Creating arrays of all ones\n",
    "e = np.ones((6,4), np.uint8)\n",
    "e"
   ]
  },
  {
   "cell_type": "markdown",
   "metadata": {},
   "source": [
    "# 10) empty method"
   ]
  },
  {
   "cell_type": "code",
   "execution_count": 355,
   "metadata": {},
   "outputs": [
    {
     "data": {
      "text/plain": [
       "array([[4.24399158e-314, 8.48798317e-314, 1.27319747e-313,\n",
       "        1.69759663e-313, 2.12199579e-313, 2.54639495e-313],\n",
       "       [2.97079411e-313, 3.39519327e-313, 3.81959242e-313,\n",
       "        4.24399158e-313, 4.66839074e-313, 5.09278990e-313],\n",
       "       [5.51718906e-313, 5.94158822e-313, 6.36598737e-313,\n",
       "        6.79038653e-313, 7.21478569e-313, 7.63918485e-313]])"
      ]
     },
     "execution_count": 355,
     "metadata": {},
     "output_type": "execute_result"
    }
   ],
   "source": [
    "#Creating arrayof random numbers(values depend upon memory state)\n",
    "f = np.empty((3,6), np.float)\n",
    "f"
   ]
  },
  {
   "cell_type": "markdown",
   "metadata": {},
   "source": [
    "# 11) linspace method"
   ]
  },
  {
   "cell_type": "code",
   "execution_count": 356,
   "metadata": {},
   "outputs": [
    {
     "data": {
      "text/plain": [
       "array([ 0.        ,  0.50505051,  1.01010101,  1.51515152,  2.02020202,\n",
       "        2.52525253,  3.03030303,  3.53535354,  4.04040404,  4.54545455,\n",
       "        5.05050505,  5.55555556,  6.06060606,  6.56565657,  7.07070707,\n",
       "        7.57575758,  8.08080808,  8.58585859,  9.09090909,  9.5959596 ,\n",
       "       10.1010101 , 10.60606061, 11.11111111, 11.61616162, 12.12121212,\n",
       "       12.62626263, 13.13131313, 13.63636364, 14.14141414, 14.64646465,\n",
       "       15.15151515, 15.65656566, 16.16161616, 16.66666667, 17.17171717,\n",
       "       17.67676768, 18.18181818, 18.68686869, 19.19191919, 19.6969697 ,\n",
       "       20.2020202 , 20.70707071, 21.21212121, 21.71717172, 22.22222222,\n",
       "       22.72727273, 23.23232323, 23.73737374, 24.24242424, 24.74747475,\n",
       "       25.25252525, 25.75757576, 26.26262626, 26.76767677, 27.27272727,\n",
       "       27.77777778, 28.28282828, 28.78787879, 29.29292929, 29.7979798 ,\n",
       "       30.3030303 , 30.80808081, 31.31313131, 31.81818182, 32.32323232,\n",
       "       32.82828283, 33.33333333, 33.83838384, 34.34343434, 34.84848485,\n",
       "       35.35353535, 35.85858586, 36.36363636, 36.86868687, 37.37373737,\n",
       "       37.87878788, 38.38383838, 38.88888889, 39.39393939, 39.8989899 ,\n",
       "       40.4040404 , 40.90909091, 41.41414141, 41.91919192, 42.42424242,\n",
       "       42.92929293, 43.43434343, 43.93939394, 44.44444444, 44.94949495,\n",
       "       45.45454545, 45.95959596, 46.46464646, 46.96969697, 47.47474747,\n",
       "       47.97979798, 48.48484848, 48.98989899, 49.49494949, 50.        ])"
      ]
     },
     "execution_count": 356,
     "metadata": {},
     "output_type": "execute_result"
    }
   ],
   "source": [
    "#Creating an array with 100 equally spaced values in the range: 0-50 \n",
    "g = np.linspace(0,50,100)\n",
    "g"
   ]
  },
  {
   "cell_type": "markdown",
   "metadata": {},
   "source": [
    "# 12) pi attribute\n",
    "# 13) sin method"
   ]
  },
  {
   "cell_type": "code",
   "execution_count": 359,
   "metadata": {},
   "outputs": [
    {
     "name": "stdout",
     "output_type": "stream",
     "text": [
      "[0.         0.07059759 0.14119518 0.21179276 0.28239035 0.35298794\n",
      " 0.42358553 0.49418311 0.5647807  0.63537829 0.70597588 0.77657346\n",
      " 0.84717105 0.91776864 0.98836623 1.05896382 1.1295614  1.20015899\n",
      " 1.27075658 1.34135417 1.41195175 1.48254934 1.55314693 1.62374452\n",
      " 1.69434211 1.76493969 1.83553728 1.90613487 1.97673246 2.04733004\n",
      " 2.11792763 2.18852522 2.25912281 2.32972039 2.40031798 2.47091557\n",
      " 2.54151316 2.61211075 2.68270833 2.75330592 2.82390351 2.8945011\n",
      " 2.96509868 3.03569627 3.10629386 3.17689145 3.24748904 3.31808662\n",
      " 3.38868421 3.4592818  3.52987939 3.60047697 3.67107456 3.74167215\n",
      " 3.81226974 3.88286732 3.95346491 4.0240625  4.09466009 4.16525768\n",
      " 4.23585526 4.30645285 4.37705044 4.44764803 4.51824561 4.5888432\n",
      " 4.65944079 4.73003838 4.80063597 4.87123355 4.94183114 5.01242873\n",
      " 5.08302632 5.1536239  5.22422149 5.29481908 5.36541667 5.43601425\n",
      " 5.50661184 5.57720943 5.64780702 5.71840461 5.78900219 5.85959978\n",
      " 5.93019737 6.00079496 6.07139254 6.14199013 6.21258772 6.28318531]\n"
     ]
    },
    {
     "data": {
      "text/plain": [
       "Text(0.5, 1.0, 'Sine Wave Plot')"
      ]
     },
     "execution_count": 359,
     "metadata": {},
     "output_type": "execute_result"
    },
    {
     "data": {
      "image/png": "[encoded data removed]",
      "text/plain": [
       "<Figure size 432x288 with 1 Axes>"
      ]
     },
     "metadata": {
      "needs_background": "light"
     },
     "output_type": "display_data"
    }
   ],
   "source": [
    "#Creating sine wave plot\n",
    "h = np.linspace(0,2*np.pi,90)     #Creating an array with 90 equally spaced values in the range: 0-2*pi \n",
    "print(h)                          #print x-axis values\n",
    "x = 10*np.sin(h)\n",
    "plt.plot(x)\n",
    "plt.title(\"Sine Wave Plot\")"
   ]
  },
  {
   "cell_type": "markdown",
   "metadata": {},
   "source": [
    "# 14) random method\n",
    "# 15) default_rng method"
   ]
  },
  {
   "cell_type": "code",
   "execution_count": 360,
   "metadata": {},
   "outputs": [
    {
     "data": {
      "text/plain": [
       "array([[0.62509547, 0.8972138 , 0.77568569],\n",
       "       [0.22520719, 0.30016628, 0.87355345]])"
      ]
     },
     "execution_count": 360,
     "metadata": {},
     "output_type": "execute_result"
    }
   ],
   "source": [
    "rg= np.random.default_rng(7)  #random number generator instance with key\n",
    "i = rg.random((2,3))          #random numbered array\n",
    "i"
   ]
  },
  {
   "cell_type": "markdown",
   "metadata": {},
   "source": [
    "# 16) exp method"
   ]
  },
  {
   "cell_type": "code",
   "execution_count": 361,
   "metadata": {},
   "outputs": [
    {
     "data": {
      "text/plain": [
       "array([2.00000000e+00, 4.04927062e+00, 8.16953626e+00, 1.63671552e+01,\n",
       "       3.24489585e+01, 6.34452790e+01, 1.21932117e+02, 2.29585100e+02,\n",
       "       4.22188984e+02, 7.55944077e+02, 1.31410983e+03, 2.21175242e+03,\n",
       "       3.59482510e+03, 5.62865368e+03, 8.47123404e+03, 1.22298102e+04,\n",
       "       1.69055439e+04, 2.23395525e+04, 2.81807557e+04, 3.38969855e+04,\n",
       "       3.88418763e+04, 4.23716503e+04, 4.39843741e+04, 4.34398673e+04,\n",
       "       4.08199580e+04, 3.65077610e+04, 3.10933836e+04, 2.52387733e+04,\n",
       "       1.95450747e+04, 1.44586721e+04, 1.02327803e+04, 6.94034441e+03,\n",
       "       4.51991786e+03, 2.83250120e+03, 1.71202791e+03, 1.00055763e+03,\n",
       "       5.66925557e+02, 3.12314215e+02, 1.67775775e+02, 8.81623140e+01,\n",
       "       4.54616426e+01, 2.30806841e+01, 1.15760478e+01, 5.75536748e+00,\n",
       "       2.84641930e+00, 1.40527434e+00, 6.95003405e-01, 3.45541074e-01,\n",
       "       1.73305088e-01, 8.79862621e-02, 4.53708599e-02, 2.38413443e-02,\n",
       "       1.28076143e-02, 7.05560007e-03, 3.99777073e-03, 2.33641050e-03,\n",
       "       1.41217945e-03, 8.84971834e-04, 5.76340274e-04, 3.90900602e-04,\n",
       "       2.76650578e-04, 2.04655140e-04, 1.58486308e-04, 1.28644732e-04,\n",
       "       1.09565744e-04, 9.79912816e-05, 9.20813125e-05, 9.09413874e-05,\n",
       "       9.44027428e-05, 1.02981637e-04, 1.18004594e-04, 1.41940835e-04,\n",
       "       1.79054617e-04, 2.36608773e-04, 3.27069672e-04, 4.72186222e-04,\n",
       "       7.10649514e-04, 1.11271060e-03, 1.80852068e-03, 3.04388560e-03,\n",
       "       5.29139671e-03, 9.47443005e-03, 1.74227334e-02, 3.28051385e-02,\n",
       "       6.30464561e-02, 1.23270520e-01, 2.44391890e-01, 4.89623875e-01,\n",
       "       9.87832224e-01, 2.00000000e+00])"
      ]
     },
     "execution_count": 361,
     "metadata": {},
     "output_type": "execute_result"
    }
   ],
   "source": [
    "i = 2*np.exp(x)             #Expression 2e^(-10*sin(h))\n",
    "i"
   ]
  },
  {
   "cell_type": "markdown",
   "metadata": {},
   "source": [
    "# 17) min method\n",
    "# 18) max method"
   ]
  },
  {
   "cell_type": "code",
   "execution_count": 362,
   "metadata": {},
   "outputs": [
    {
     "name": "stdout",
     "output_type": "stream",
     "text": [
      "9.094138736915767e-05\n",
      "43984.374064613985\n"
     ]
    }
   ],
   "source": [
    "print(i.min())             #min value of above expression on range 0-2pi \n",
    "print(i.max())             #max value of above expression on range 0-2pi"
   ]
  },
  {
   "cell_type": "markdown",
   "metadata": {},
   "source": [
    "# 19) sum method"
   ]
  },
  {
   "cell_type": "code",
   "execution_count": 363,
   "metadata": {},
   "outputs": [
    {
     "name": "stdout",
     "output_type": "stream",
     "text": [
      "[[   0    1    2 ...   97   98   99]\n",
      " [ 100  101  102 ...  197  198  199]\n",
      " [ 200  201  202 ...  297  298  299]\n",
      " ...\n",
      " [9700 9701 9702 ... 9797 9798 9799]\n",
      " [9800 9801 9802 ... 9897 9898 9899]\n",
      " [9900 9901 9902 ... 9997 9998 9999]]\n"
     ]
    },
    {
     "data": {
      "text/plain": [
       "array([  4950,  14950,  24950,  34950,  44950,  54950,  64950,  74950,\n",
       "        84950,  94950, 104950, 114950, 124950, 134950, 144950, 154950,\n",
       "       164950, 174950, 184950, 194950, 204950, 214950, 224950, 234950,\n",
       "       244950, 254950, 264950, 274950, 284950, 294950, 304950, 314950,\n",
       "       324950, 334950, 344950, 354950, 364950, 374950, 384950, 394950,\n",
       "       404950, 414950, 424950, 434950, 444950, 454950, 464950, 474950,\n",
       "       484950, 494950, 504950, 514950, 524950, 534950, 544950, 554950,\n",
       "       564950, 574950, 584950, 594950, 604950, 614950, 624950, 634950,\n",
       "       644950, 654950, 664950, 674950, 684950, 694950, 704950, 714950,\n",
       "       724950, 734950, 744950, 754950, 764950, 774950, 784950, 794950,\n",
       "       804950, 814950, 824950, 834950, 844950, 854950, 864950, 874950,\n",
       "       884950, 894950, 904950, 914950, 924950, 934950, 944950, 954950,\n",
       "       964950, 974950, 984950, 994950])"
      ]
     },
     "execution_count": 363,
     "metadata": {},
     "output_type": "execute_result"
    }
   ],
   "source": [
    "print(a)\n",
    "np.sum(a,axis = 1)         #sum of row values "
   ]
  },
  {
   "cell_type": "markdown",
   "metadata": {},
   "source": [
    "# 20) cumsum method"
   ]
  },
  {
   "cell_type": "code",
   "execution_count": 364,
   "metadata": {},
   "outputs": [
    {
     "data": {
      "text/plain": [
       "array([[     0,      1,      2, ...,     97,     98,     99],\n",
       "       [   100,    102,    104, ...,    294,    296,    298],\n",
       "       [   300,    303,    306, ...,    591,    594,    597],\n",
       "       ...,\n",
       "       [475300, 475398, 475496, ..., 484806, 484904, 485002],\n",
       "       [485100, 485199, 485298, ..., 494703, 494802, 494901],\n",
       "       [495000, 495100, 495200, ..., 504700, 504800, 504900]], dtype=int32)"
      ]
     },
     "execution_count": 364,
     "metadata": {},
     "output_type": "execute_result"
    }
   ],
   "source": [
    "np.cumsum(a,axis=0)      #cumulative sum of col values"
   ]
  },
  {
   "cell_type": "markdown",
   "metadata": {},
   "source": [
    "# 21) sqrt method"
   ]
  },
  {
   "cell_type": "code",
   "execution_count": 365,
   "metadata": {},
   "outputs": [
    {
     "name": "stdout",
     "output_type": "stream",
     "text": [
      "[[   0    1    2 ...   97   98   99]\n",
      " [ 100  101  102 ...  197  198  199]\n",
      " [ 200  201  202 ...  297  298  299]\n",
      " ...\n",
      " [9700 9701 9702 ... 9797 9798 9799]\n",
      " [9800 9801 9802 ... 9897 9898 9899]\n",
      " [9900 9901 9902 ... 9997 9998 9999]]\n",
      "[14.14213562 14.17744688 14.2126704  14.24780685 14.28285686 14.31782106\n",
      " 14.35270009 14.38749457 14.4222051  14.45683229 14.49137675 14.52583905\n",
      " 14.56021978 14.59451952 14.62873884 14.6628783  14.69693846 14.73091986\n",
      " 14.76482306 14.79864859 14.83239697 14.86606875 14.89966443 14.93318452\n",
      " 14.96662955 15.         15.03329638 15.06651917 15.09966887 15.13274595\n",
      " 15.16575089 15.19868415 15.23154621 15.26433752 15.29705854 15.32970972\n",
      " 15.3622915  15.39480432 15.42724862 15.45962483 15.49193338 15.5241747\n",
      " 15.55634919 15.58845727 15.62049935 15.65247584 15.68438714 15.71623365\n",
      " 15.74801575 15.77973384 15.8113883  15.84297952 15.87450787 15.90597372\n",
      " 15.93737745 15.96871942 16.         16.03121954 16.0623784  16.09347694\n",
      " 16.1245155  16.15549442 16.18641406 16.21727474 16.24807681 16.2788206\n",
      " 16.30950643 16.34013464 16.37070554 16.40121947 16.43167673 16.46207763\n",
      " 16.4924225  16.52271164 16.55294536 16.58312395 16.61324773 16.64331698\n",
      " 16.673332   16.70329309 16.73320053 16.76305461 16.79285562 16.82260384\n",
      " 16.85229955 16.88194302 16.91153453 16.94107435 16.97056275 17.\n",
      " 17.02938637 17.05872211 17.08800749 17.11724277 17.1464282  17.17556404\n",
      " 17.20465053 17.23368794 17.2626765  17.29161647]\n"
     ]
    },
    {
     "data": {
      "text/plain": [
       "99.98999949994999"
      ]
     },
     "execution_count": 365,
     "metadata": {},
     "output_type": "execute_result"
    }
   ],
   "source": [
    "print(a)\n",
    "print(np.sqrt(a[2]))        #square root of 3rd row\n",
    "np.sqrt(a[99][98])          #square root of 2nd last element"
   ]
  },
  {
   "cell_type": "markdown",
   "metadata": {},
   "source": [
    "# 22) add method"
   ]
  },
  {
   "cell_type": "code",
   "execution_count": 366,
   "metadata": {
    "scrolled": true
   },
   "outputs": [
    {
     "data": {
      "text/plain": [
       "array([[    0,     2,     4, ...,   194,   196,   198],\n",
       "       [  200,   202,   204, ...,   394,   396,   398],\n",
       "       [  400,   402,   404, ...,   594,   596,   598],\n",
       "       ...,\n",
       "       [19400, 19402, 19404, ..., 19594, 19596, 19598],\n",
       "       [19600, 19602, 19604, ..., 19794, 19796, 19798],\n",
       "       [19800, 19802, 19804, ..., 19994, 19996, 19998]])"
      ]
     },
     "execution_count": 366,
     "metadata": {},
     "output_type": "execute_result"
    }
   ],
   "source": [
    "a1 = np.array(np.arange(10000)).reshape(100,100)\n",
    "np.add(a,a1)"
   ]
  },
  {
   "cell_type": "markdown",
   "metadata": {},
   "source": [
    "# 23) flat method"
   ]
  },
  {
   "cell_type": "code",
   "execution_count": 367,
   "metadata": {},
   "outputs": [
    {
     "name": "stdout",
     "output_type": "stream",
     "text": [
      "0.5381643514719432\n",
      "[(1.5381643514719432+0j), (2.538164351471943+0j), (3.538164351471943+0j), (4.538164351471943+0j), (5.538164351471943+0j), (6.538164351471943+0j), (7.538164351471943+0j), (8.538164351471943+0j), (9.538164351471943+0j), (10.538164351471943+0j), (11.538164351471943+0j), (12.538164351471943+0j), (13.538164351471943+0j), (14.538164351471943+0j), (15.538164351471943+0j), (16.53816435147194+0j), (17.53816435147194+0j), (18.53816435147194+0j), (19.53816435147194+0j), (20.53816435147194+0j), (21.53816435147194+0j), (22.53816435147194+0j), (23.53816435147194+0j), (24.53816435147194+0j), (25.53816435147194+0j), (26.53816435147194+0j), (27.53816435147194+0j), (28.53816435147194+0j), (29.53816435147194+0j), (30.53816435147194+0j), (31.53816435147194+0j), (32.53816435147194+0j), (33.53816435147194+0j), (34.53816435147194+0j), (35.53816435147194+0j), (36.53816435147194+0j)]\n"
     ]
    }
   ],
   "source": [
    "c1 = []\n",
    "rg= np.random.default_rng(6)  #random number generator instance with key\n",
    "x = rg.random()  \n",
    "print(x)\n",
    "for i in c.flat:              #flatten array to a single row\n",
    "    c1.append(i+x)\n",
    "print(c1)"
   ]
  },
  {
   "cell_type": "markdown",
   "metadata": {},
   "source": [
    "# 24) floor method\n",
    "# 25) ceil method"
   ]
  },
  {
   "cell_type": "code",
   "execution_count": 368,
   "metadata": {},
   "outputs": [
    {
     "name": "stdout",
     "output_type": "stream",
     "text": [
      "[ 0.          4.62809042  5.00113585  0.77616004 -4.16241372 -5.27408351\n",
      " -1.53678524]\n",
      "[ 0.  4.  5.  0. -5. -6. -2.]\n",
      "[ 0.  5.  6.  1. -4. -5. -1.]\n"
     ]
    }
   ],
   "source": [
    "x = 5.5*np.sin(np.arange(0,2*np.pi))\n",
    "print(x)\n",
    "xf = np.floor(x)         \n",
    "xc = np.ceil(x)\n",
    "print(xf)\n",
    "print(xc)"
   ]
  },
  {
   "cell_type": "markdown",
   "metadata": {},
   "source": [
    "# 26) ravel method"
   ]
  },
  {
   "cell_type": "code",
   "execution_count": 369,
   "metadata": {},
   "outputs": [
    {
     "name": "stdout",
     "output_type": "stream",
     "text": [
      "[[ 0  1  2  3  4  5  6  7  8  9]\n",
      " [10 11 12 13 14 15 16 17 18 19]\n",
      " [20 21 22 23 24 25 26 27 28 29]\n",
      " [30 31 32 33 34 35 36 37 38 39]\n",
      " [40 41 42 43 44 45 46 47 48 49]\n",
      " [50 51 52 53 54 55 56 57 58 59]\n",
      " [60 61 62 63 64 65 66 67 68 69]\n",
      " [70 71 72 73 74 75 76 77 78 79]\n",
      " [80 81 82 83 84 85 86 87 88 89]\n",
      " [90 91 92 93 94 95 96 97 98 99]]\n"
     ]
    },
    {
     "data": {
      "text/plain": [
       "array([ 0,  1,  2,  3,  4,  5,  6,  7,  8,  9, 10, 11, 12, 13, 14, 15, 16,\n",
       "       17, 18, 19, 20, 21, 22, 23, 24, 25, 26, 27, 28, 29, 30, 31, 32, 33,\n",
       "       34, 35, 36, 37, 38, 39, 40, 41, 42, 43, 44, 45, 46, 47, 48, 49, 50,\n",
       "       51, 52, 53, 54, 55, 56, 57, 58, 59, 60, 61, 62, 63, 64, 65, 66, 67,\n",
       "       68, 69, 70, 71, 72, 73, 74, 75, 76, 77, 78, 79, 80, 81, 82, 83, 84,\n",
       "       85, 86, 87, 88, 89, 90, 91, 92, 93, 94, 95, 96, 97, 98, 99])"
      ]
     },
     "execution_count": 369,
     "metadata": {},
     "output_type": "execute_result"
    }
   ],
   "source": [
    "print(b)            #100*100 array\n",
    "b.ravel()           #flattened out array(single row)"
   ]
  },
  {
   "cell_type": "markdown",
   "metadata": {},
   "source": [
    "# 27) resize method"
   ]
  },
  {
   "cell_type": "code",
   "execution_count": 370,
   "metadata": {},
   "outputs": [
    {
     "data": {
      "text/plain": [
       "array([[[ 0,  1],\n",
       "        [ 2,  3],\n",
       "        [ 4,  5],\n",
       "        [ 6,  7]],\n",
       "\n",
       "       [[ 8,  9],\n",
       "        [10, 11],\n",
       "        [12, 13],\n",
       "        [14, 15]],\n",
       "\n",
       "       [[16, 17],\n",
       "        [18, 19],\n",
       "        [20, 21],\n",
       "        [22, 23]]])"
      ]
     },
     "execution_count": 370,
     "metadata": {},
     "output_type": "execute_result"
    }
   ],
   "source": [
    "c = np.arange(36)\n",
    "c = np.resize(c,(3,4,2))     #rearrange array of 1*6(2-d) to 3*4*2(3-d)\n",
    "c"
   ]
  },
  {
   "cell_type": "markdown",
   "metadata": {},
   "source": [
    "# 28) vstack method"
   ]
  },
  {
   "cell_type": "code",
   "execution_count": 371,
   "metadata": {},
   "outputs": [
    {
     "data": {
      "text/plain": [
       "array([[ 0,  1],\n",
       "       [ 2,  3],\n",
       "       [ 4,  5],\n",
       "       [ 7,  8],\n",
       "       [ 9, 10],\n",
       "       [11, 12]])"
      ]
     },
     "execution_count": 371,
     "metadata": {},
     "output_type": "execute_result"
    }
   ],
   "source": [
    "a = np.arange(6).reshape(3,2)\n",
    "b = np.arange(7,13).reshape(3,2)\n",
    "\n",
    "c = np.vstack((a,b))   #stack b in the subsequent rows of a\n",
    "c"
   ]
  },
  {
   "cell_type": "markdown",
   "metadata": {},
   "source": [
    "# 29) hstack method"
   ]
  },
  {
   "cell_type": "code",
   "execution_count": 372,
   "metadata": {},
   "outputs": [
    {
     "data": {
      "text/plain": [
       "array([[ 0,  1,  7,  8],\n",
       "       [ 2,  3,  9, 10],\n",
       "       [ 4,  5, 11, 12]])"
      ]
     },
     "execution_count": 372,
     "metadata": {},
     "output_type": "execute_result"
    }
   ],
   "source": [
    "c = np.hstack((a,b))   #stack b in the cols subsequent to a\n",
    "c"
   ]
  },
  {
   "cell_type": "markdown",
   "metadata": {},
   "source": [
    "# 30) column_stack method"
   ]
  },
  {
   "cell_type": "code",
   "execution_count": 373,
   "metadata": {},
   "outputs": [
    {
     "data": {
      "text/plain": [
       "array([[ 0,  1,  7,  8],\n",
       "       [ 2,  3,  9, 10],\n",
       "       [ 4,  5, 11, 12]])"
      ]
     },
     "execution_count": 373,
     "metadata": {},
     "output_type": "execute_result"
    }
   ],
   "source": [
    "c = np.column_stack((a,b))   #stack b in the cols subsequent to a\n",
    "c"
   ]
  },
  {
   "cell_type": "markdown",
   "metadata": {},
   "source": [
    "# 31) row_stack method"
   ]
  },
  {
   "cell_type": "code",
   "execution_count": 374,
   "metadata": {},
   "outputs": [
    {
     "data": {
      "text/plain": [
       "array([[ 0,  1],\n",
       "       [ 2,  3],\n",
       "       [ 4,  5],\n",
       "       [ 7,  8],\n",
       "       [ 9, 10],\n",
       "       [11, 12]])"
      ]
     },
     "execution_count": 374,
     "metadata": {},
     "output_type": "execute_result"
    }
   ],
   "source": [
    "c = np.row_stack((a,b))   #stack b in the rows subsequent to a\n",
    "c"
   ]
  },
  {
   "cell_type": "markdown",
   "metadata": {},
   "source": [
    "# 32) newaxis attribute"
   ]
  },
  {
   "cell_type": "code",
   "execution_count": 437,
   "metadata": {},
   "outputs": [
    {
     "name": "stdout",
     "output_type": "stream",
     "text": [
      "Column vector:\n",
      " (9, 1) \n",
      " [[0]\n",
      " [1]\n",
      " [2]\n",
      " [3]\n",
      " [4]\n",
      " [5]\n",
      " [6]\n",
      " [7]\n",
      " [8]] \n",
      "\n",
      "Row Vector:\n",
      "  (1, 9) \n",
      " [[0 1 2 3 4 5 6 7 8]]\n"
     ]
    }
   ],
   "source": [
    "from numpy import newaxis\n",
    "c = np.arange(9)\n",
    "col_vec = c[:,newaxis]\n",
    "row_vec = c[newaxis,:]\n",
    "print(\"Column vector:\\n\",col_vec.shape,\"\\n\",col_vec,\"\\n\")                \n",
    "print(\"Row Vector:\\n \",row_vec.shape,\"\\n\",row_vec)"
   ]
  },
  {
   "cell_type": "markdown",
   "metadata": {},
   "source": [
    "# 33) sort method"
   ]
  },
  {
   "cell_type": "code",
   "execution_count": 376,
   "metadata": {},
   "outputs": [
    {
     "data": {
      "text/plain": [
       "array([ 6, 13, 16, 38, 42, 58, 76, 81, 82])"
      ]
     },
     "execution_count": 376,
     "metadata": {},
     "output_type": "execute_result"
    }
   ],
   "source": [
    "a = np.random.randint(100, size=9)\n",
    "a = np.sort(a)                        #sort array in ascending order\n",
    "a"
   ]
  },
  {
   "cell_type": "markdown",
   "metadata": {},
   "source": [
    "# 34) concatenate method\n",
    "# 35) asarray method"
   ]
  },
  {
   "cell_type": "code",
   "execution_count": 377,
   "metadata": {},
   "outputs": [
    {
     "data": {
      "text/plain": [
       "array([[4.2e+01, 9.6e+01, 2.5e+01],\n",
       "       [6.5e+01, 9.1e+01, 1.6e+01],\n",
       "       [1.7e+01, 9.1e+01, 2.5e+01],\n",
       "       [5.9e-01, 2.8e-01, 4.0e-01],\n",
       "       [8.7e-01, 2.5e-01, 5.0e-02],\n",
       "       [9.3e-01, 5.5e-01, 3.9e-01]])"
      ]
     },
     "execution_count": 377,
     "metadata": {},
     "output_type": "execute_result"
    }
   ],
   "source": [
    "a1 = np.asarray([x for x in np.random.randint(100,size=9)]).reshape(3,3)   #convert given iterable(list in this case) to ndarray\n",
    "a2 = np.asarray([round(x,2) for x in np.random.rand(9)]).reshape(3,3)\n",
    "a = np.concatenate((a1,a2), axis=0)                                               #concatenate two arrays(default row-wise stacking)\n",
    "a"
   ]
  },
  {
   "cell_type": "markdown",
   "metadata": {},
   "source": [
    "# 35) hsplit method"
   ]
  },
  {
   "cell_type": "code",
   "execution_count": 378,
   "metadata": {},
   "outputs": [
    {
     "data": {
      "text/plain": [
       "[array([[42.  ],\n",
       "        [65.  ],\n",
       "        [17.  ],\n",
       "        [ 0.59],\n",
       "        [ 0.87],\n",
       "        [ 0.93]]),\n",
       " array([[96.  ],\n",
       "        [91.  ],\n",
       "        [91.  ],\n",
       "        [ 0.28],\n",
       "        [ 0.25],\n",
       "        [ 0.55]]),\n",
       " array([[25.  ],\n",
       "        [16.  ],\n",
       "        [25.  ],\n",
       "        [ 0.4 ],\n",
       "        [ 0.05],\n",
       "        [ 0.39]])]"
      ]
     },
     "execution_count": 378,
     "metadata": {},
     "output_type": "execute_result"
    }
   ],
   "source": [
    "a = np.hsplit(a,3)\n",
    "a"
   ]
  },
  {
   "cell_type": "markdown",
   "metadata": {},
   "source": [
    "# 36) view method"
   ]
  },
  {
   "cell_type": "code",
   "execution_count": 379,
   "metadata": {},
   "outputs": [
    {
     "name": "stdout",
     "output_type": "stream",
     "text": [
      "[[42 96 25]\n",
      " [65 91 16]\n",
      " [17 91 25]]\n",
      "[[42 96 25]\n",
      " [65 91 16]\n",
      " [17 91 25]]\n",
      "[[72 11 86]\n",
      " [97 97 54]\n",
      " [68  6 11]]\n"
     ]
    },
    {
     "data": {
      "text/plain": [
       "array([[42, 96, 25],\n",
       "       [65, 91, 16],\n",
       "       [17, 91, 25]])"
      ]
     },
     "execution_count": 379,
     "metadata": {},
     "output_type": "execute_result"
    }
   ],
   "source": [
    "print(a1)\n",
    "a3 = a1.view()                                  #makes shallow copy of a1 in a3\n",
    "print(a3)\n",
    "a3 = np.random.randint(100,size=9).reshape(3,3)\n",
    "print(a3)\n",
    "a1"
   ]
  },
  {
   "cell_type": "markdown",
   "metadata": {},
   "source": [
    "# 37) copy method"
   ]
  },
  {
   "cell_type": "code",
   "execution_count": 380,
   "metadata": {},
   "outputs": [
    {
     "name": "stdout",
     "output_type": "stream",
     "text": [
      "[[42 96 25]\n",
      " [65 91 16]\n",
      " [17 91 25]]\n",
      "[[42 96 25]\n",
      " [65 91 16]\n",
      " [17 91 25]]\n",
      "[[94 65 83]\n",
      " [10 31 68]\n",
      " [34 84 27]]\n"
     ]
    },
    {
     "data": {
      "text/plain": [
       "array([[42, 96, 25],\n",
       "       [65, 91, 16],\n",
       "       [17, 91, 25]])"
      ]
     },
     "execution_count": 380,
     "metadata": {},
     "output_type": "execute_result"
    }
   ],
   "source": [
    "print(a1)\n",
    "a3 = a1.copy()                                  #makes deep copy of a1 in a3\n",
    "print(a3)\n",
    "a3 = np.random.randint(100,size=9).reshape(3,3)\n",
    "print(a3)\n",
    "a1"
   ]
  },
  {
   "cell_type": "code",
   "execution_count": null,
   "metadata": {},
   "outputs": [],
   "source": []
  },
  {
   "cell_type": "code",
   "execution_count": 381,
   "metadata": {},
   "outputs": [
    {
     "data": {
      "text/plain": [
       "<matplotlib.image.AxesImage at 0x1e3288f0c48>"
      ]
     },
     "execution_count": 381,
     "metadata": {},
     "output_type": "execute_result"
    },
    {
     "data": {
      "image/png": "[encoded data removed]",
      "text/plain": [
       "<Figure size 432x288 with 1 Axes>"
      ]
     },
     "metadata": {
      "needs_background": "light"
     },
     "output_type": "display_data"
    }
   ],
   "source": [
    "import matplotlib.pyplot as plt\n",
    "def mandelbrot( h,w, maxit=30 ):\n",
    "#Returns an image of the Mandelbrot fractal of size (h,w).\n",
    "    y,x = np.ogrid[ -1.8:1.8:h*1j, -3:3:w*1j ]\n",
    "    c = x+y*0.8j\n",
    "    z = c\n",
    "    divtime = maxit + np.zeros(z.shape, dtype=int)\n",
    "\n",
    "    for i in range(maxit):\n",
    "        z = z**np.exp(2.6) + c\n",
    "        diverge = z*np.conj(z) > 2**2 # who is diverging\n",
    "        div_now = diverge & (divtime==maxit) # who is diverging now\n",
    "        divtime[div_now] = i # note when\n",
    "        z[diverge] = 7 # avoid diverging too much\n",
    "        return divtime\n",
    "    \n",
    "plt.imshow(mandelbrot(400,400))"
   ]
  },
  {
   "cell_type": "markdown",
   "metadata": {},
   "source": [
    "# 38) eye or identity method"
   ]
  },
  {
   "cell_type": "code",
   "execution_count": 382,
   "metadata": {},
   "outputs": [
    {
     "name": "stdout",
     "output_type": "stream",
     "text": [
      "[[1. 0. 0. 0. 0. 0.]\n",
      " [0. 1. 0. 0. 0. 0.]\n",
      " [0. 0. 1. 0. 0. 0.]\n",
      " [0. 0. 0. 1. 0. 0.]\n",
      " [0. 0. 0. 0. 1. 0.]\n",
      " [0. 0. 0. 0. 0. 1.]]\n"
     ]
    },
    {
     "data": {
      "text/plain": [
       "array([[1., 0., 0., 0., 0., 0.],\n",
       "       [0., 1., 0., 0., 0., 0.],\n",
       "       [0., 0., 1., 0., 0., 0.],\n",
       "       [0., 0., 0., 1., 0., 0.],\n",
       "       [0., 0., 0., 0., 1., 0.],\n",
       "       [0., 0., 0., 0., 0., 1.]])"
      ]
     },
     "execution_count": 382,
     "metadata": {},
     "output_type": "execute_result"
    }
   ],
   "source": [
    "a1 = np.eye(6)                 #identity matrix 6*6\n",
    "a2 = np.identity(6)            #identity matrix 6*6\n",
    "print(a1)\n",
    "a2"
   ]
  },
  {
   "cell_type": "markdown",
   "metadata": {},
   "source": [
    "# 39) mat method"
   ]
  },
  {
   "cell_type": "code",
   "execution_count": 383,
   "metadata": {},
   "outputs": [
    {
     "name": "stdout",
     "output_type": "stream",
     "text": [
      "<class 'numpy.ndarray'>\n",
      "<class 'numpy.matrix'>\n"
     ]
    },
    {
     "data": {
      "text/plain": [
       "matrix([[1., 0., 0., 0., 0., 0.],\n",
       "        [0., 1., 0., 0., 0., 0.],\n",
       "        [0., 0., 1., 0., 0., 0.],\n",
       "        [0., 0., 0., 1., 0., 0.],\n",
       "        [0., 0., 0., 0., 1., 0.],\n",
       "        [0., 0., 0., 0., 0., 1.]])"
      ]
     },
     "execution_count": 383,
     "metadata": {},
     "output_type": "execute_result"
    }
   ],
   "source": [
    "print(type(a1))\n",
    "a1 = np.mat(a1)           #converting ndarray to matrix(strcitly 2-d arrays)\n",
    "print(type(a1))\n",
    "a1"
   ]
  },
  {
   "cell_type": "markdown",
   "metadata": {},
   "source": [
    "# 40) astype method"
   ]
  },
  {
   "cell_type": "code",
   "execution_count": 384,
   "metadata": {},
   "outputs": [
    {
     "name": "stdout",
     "output_type": "stream",
     "text": [
      "float64\n",
      "[[1 0 0 0 0 0]\n",
      " [0 1 0 0 0 0]\n",
      " [0 0 1 0 0 0]\n",
      " [0 0 0 1 0 0]\n",
      " [0 0 0 0 1 0]\n",
      " [0 0 0 0 0 1]]\n",
      "int32\n"
     ]
    }
   ],
   "source": [
    "print(a1.dtype)            #existing data type\n",
    "a1 = a1.astype(int)        #array typecast to int\n",
    "print(a1)\n",
    "print(a1.dtype)            #new data type"
   ]
  },
  {
   "cell_type": "markdown",
   "metadata": {},
   "source": [
    "# 41) argmax method\n",
    "# 42) argmin method"
   ]
  },
  {
   "cell_type": "code",
   "execution_count": 390,
   "metadata": {},
   "outputs": [
    {
     "name": "stdout",
     "output_type": "stream",
     "text": [
      "[[ 0.          0.84147098  0.90929743  0.14112001 -0.7568025 ]\n",
      " [-0.95892427 -0.2794155   0.6569866   0.98935825  0.41211849]\n",
      " [-0.54402111 -0.99999021 -0.53657292  0.42016704  0.99060736]\n",
      " [ 0.65028784 -0.28790332 -0.96139749 -0.75098725  0.14987721]\n",
      " [ 0.91294525  0.83665564 -0.00885131 -0.8462204  -0.90557836]\n",
      " [-0.13235175  0.76255845  0.95637593  0.27090579 -0.66363388]\n",
      " [-0.98803162 -0.40403765  0.55142668  0.99991186  0.52908269]\n",
      " [-0.42818267 -0.99177885 -0.64353813  0.29636858  0.96379539]\n",
      " [ 0.74511316 -0.15862267 -0.91652155 -0.83177474  0.01770193]\n",
      " [ 0.85090352  0.90178835  0.12357312 -0.76825466 -0.95375265]]\n",
      "33\n",
      "11\n"
     ]
    }
   ],
   "source": [
    "x = np.sin(np.arange(50)).reshape(10,5) \n",
    "print(x)\n",
    "print(np.argmax(x))\n",
    "print(np.argmin(x))"
   ]
  },
  {
   "cell_type": "markdown",
   "metadata": {},
   "source": [
    "# 43) transpose method"
   ]
  },
  {
   "cell_type": "code",
   "execution_count": 394,
   "metadata": {},
   "outputs": [
    {
     "name": "stdout",
     "output_type": "stream",
     "text": [
      "[[ 0  1  2  3]\n",
      " [ 4  5  6  7]\n",
      " [ 8  9 10 11]\n",
      " [12 13 14 15]]\n",
      "Transposed array\n"
     ]
    },
    {
     "data": {
      "text/plain": [
       "array([[ 0,  4,  8, 12],\n",
       "       [ 1,  5,  9, 13],\n",
       "       [ 2,  6, 10, 14],\n",
       "       [ 3,  7, 11, 15]])"
      ]
     },
     "execution_count": 394,
     "metadata": {},
     "output_type": "execute_result"
    }
   ],
   "source": [
    "x1 = np.arange(16).reshape(4,4)\n",
    "print(x1)\n",
    "print(\"Transposed array:\")\n",
    "x1 = np.transpose(x1)\n",
    "x1"
   ]
  },
  {
   "cell_type": "markdown",
   "metadata": {},
   "source": [
    "# 44) matrix method\n",
    "# 45) linalg.inv method"
   ]
  },
  {
   "cell_type": "code",
   "execution_count": 406,
   "metadata": {},
   "outputs": [
    {
     "data": {
      "text/plain": [
       "matrix([[ 0.5,  0. ,  0.5],\n",
       "        [-2. ,  1. , -0. ],\n",
       "        [ 0.5, -0. , -0.5]])"
      ]
     },
     "execution_count": 406,
     "metadata": {},
     "output_type": "execute_result"
    }
   ],
   "source": [
    "x = np.matrix([[1,0,1],[2,1,2],[1,0,-1]]) #defining a 3*3 matrix\n",
    "x_inv = np.linalg.inv(x)                   #taking inverse\n",
    "x_inv"
   ]
  },
  {
   "cell_type": "markdown",
   "metadata": {},
   "source": [
    "# 46) dot method"
   ]
  },
  {
   "cell_type": "code",
   "execution_count": 408,
   "metadata": {},
   "outputs": [
    {
     "data": {
      "text/plain": [
       "matrix([[1., 0., 0.],\n",
       "        [0., 1., 0.],\n",
       "        [0., 0., 1.]])"
      ]
     },
     "execution_count": 408,
     "metadata": {},
     "output_type": "execute_result"
    }
   ],
   "source": [
    "x_dot = np.dot(x,x_inv)   #calculating matrix dot product\n",
    "x_dot"
   ]
  },
  {
   "cell_type": "markdown",
   "metadata": {},
   "source": [
    "# 47) eig method"
   ]
  },
  {
   "cell_type": "code",
   "execution_count": 414,
   "metadata": {},
   "outputs": [
    {
     "data": {
      "text/plain": [
       "(array([ 1.        ,  0.70710678, -0.70710678]),\n",
       " matrix([[ 0.        ,  0.14464074, -0.34919364],\n",
       "         [ 1.        ,  0.98766876, -0.4091058 ],\n",
       "         [ 0.        ,  0.05991216,  0.84302802]]))"
      ]
     },
     "execution_count": 414,
     "metadata": {},
     "output_type": "execute_result"
    }
   ],
   "source": [
    "e = np.linalg.eig(x_inv)                    #calculating eigenvalues and eigenvectors\n",
    "e"
   ]
  },
  {
   "cell_type": "markdown",
   "metadata": {},
   "source": [
    "# 48) det method"
   ]
  },
  {
   "cell_type": "code",
   "execution_count": 415,
   "metadata": {},
   "outputs": [
    {
     "data": {
      "text/plain": [
       "-2.0"
      ]
     },
     "execution_count": 415,
     "metadata": {},
     "output_type": "execute_result"
    }
   ],
   "source": [
    "det = np.linalg.det(x)\n",
    "det"
   ]
  },
  {
   "cell_type": "markdown",
   "metadata": {},
   "source": [
    "# 49) matmul method"
   ]
  },
  {
   "cell_type": "code",
   "execution_count": 417,
   "metadata": {},
   "outputs": [
    {
     "data": {
      "text/plain": [
       "matrix([[1., 0., 0.],\n",
       "        [0., 1., 0.],\n",
       "        [0., 0., 1.]])"
      ]
     },
     "execution_count": 417,
     "metadata": {},
     "output_type": "execute_result"
    }
   ],
   "source": [
    "mul = np.matmul(x,x_inv)\n",
    "mul"
   ]
  },
  {
   "cell_type": "markdown",
   "metadata": {},
   "source": [
    "# 50) solve method"
   ]
  },
  {
   "cell_type": "code",
   "execution_count": 420,
   "metadata": {},
   "outputs": [
    {
     "data": {
      "text/plain": [
       "array([-4.,  1.])"
      ]
     },
     "execution_count": 420,
     "metadata": {},
     "output_type": "execute_result"
    }
   ],
   "source": [
    "a = np.array([[1,-7],[5,2]])                 # x - 7y = -11, 5x + 2y = -18\n",
    "b = np.array([-11,-18])\n",
    "sol = np.linalg.solve(a, b)\n",
    "sol"
   ]
  },
  {
   "cell_type": "markdown",
   "metadata": {},
   "source": [
    "# 51) allclose method"
   ]
  },
  {
   "cell_type": "code",
   "execution_count": 422,
   "metadata": {},
   "outputs": [
    {
     "data": {
      "text/plain": [
       "True"
      ]
     },
     "execution_count": 422,
     "metadata": {},
     "output_type": "execute_result"
    }
   ],
   "source": [
    "np.allclose(np.dot(a, sol), b)             # to check if two values are equal a.sol = b"
   ]
  }
 ],
 "metadata": {
  "kernelspec": {
   "display_name": "Python 3",
   "language": "python",
   "name": "python3"
  },
  "language_info": {
   "codemirror_mode": {
    "name": "ipython",
    "version": 3
   },
   "file_extension": ".py",
   "mimetype": "text/x-python",
   "name": "python",
   "nbconvert_exporter": "python",
   "pygments_lexer": "ipython3",
   "version": "3.7.4"
  }
 },
 "nbformat": 4,
 "nbformat_minor": 4
}
