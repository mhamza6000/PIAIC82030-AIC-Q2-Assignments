{
  "nbformat": 4,
  "nbformat_minor": 0,
  "metadata": {
    "colab": {
      "name": "Flower_dectection_assignment_4_.ipynb",
      "provenance": [],
      "collapsed_sections": [],
      "include_colab_link": true
    },
    "kernelspec": {
      "name": "python3",
      "display_name": "Python 3"
    },
    "language_info": {
      "name": "python"
    },
    "accelerator": "GPU"
  },
  "cells": [
    {
      "cell_type": "markdown",
      "metadata": {
        "id": "view-in-github",
        "colab_type": "text"
      },
      "source": [
        "<a href=\"https://colab.research.google.com/github/mhamza6000/PIAIC82030-AIC-Q2-Assignments/blob/master/Flower_dectection_assignment_4_.ipynb\" target=\"_parent\"><img src=\"https://colab.research.google.com/assets/colab-badge.svg\" alt=\"Open In Colab\"/></a>"
      ]
    },
    {
      "cell_type": "code",
      "metadata": {
        "id": "BL-UDz_NwlzB"
      },
      "source": [
        "import pandas as pd\n",
        "import numpy as np\n",
        "import matplotlib.pyplot as plt\n",
        "import tensorflow as tf\n",
        "import glob as gb\n",
        "import cv2\n",
        "import pandas as pd\n",
        "import tensorflow as tf\n",
        "from tensorflow.keras import models\n",
        "from tensorflow.keras import layers\n",
        "from tensorflow.keras.preprocessing.image import ImageDataGenerator\n",
        "from tensorflow.keras.models import Sequential\n",
        "from tensorflow.keras.layers import Dense, Flatten\n",
        "from tensorflow.keras.optimizers import RMSprop\n",
        "from pathlib import Path"
      ],
      "execution_count": null,
      "outputs": []
    },
    {
      "cell_type": "code",
      "metadata": {
        "colab": {
          "base_uri": "https://localhost:8080/"
        },
        "id": "sejXaLGQ6RgS",
        "outputId": "d5b9e646-605e-4bb2-a8a8-cb958a2ec989"
      },
      "source": [
        "from google.colab import drive\n",
        "drive.mount('/content/drive')"
      ],
      "execution_count": null,
      "outputs": [
        {
          "output_type": "stream",
          "text": [
            "Drive already mounted at /content/drive; to attempt to forcibly remount, call drive.mount(\"/content/drive\", force_remount=True).\n"
          ],
          "name": "stdout"
        }
      ]
    },
    {
      "cell_type": "markdown",
      "metadata": {
        "id": "rtFGZQz915GB"
      },
      "source": [
        "# **Reading data from Google Drive**"
      ]
    },
    {
      "cell_type": "code",
      "metadata": {
        "colab": {
          "base_uri": "https://localhost:8080/"
        },
        "id": "-NGAk23wy9tN",
        "outputId": "2a20c1ae-7e0c-43d3-84f0-f6bd6f6fa93d"
      },
      "source": [
        "with tf.device('/device:GPU:1'):\n",
        "  flower = []\n",
        "  features = []\n",
        "  labels = []\n",
        "  directory = Path('/content/drive/MyDrive/flowers')\n",
        "  for dir in directory.iterdir():\n",
        "    flower.append(dir.name)\n",
        "    print(dir.name)\n",
        "    for imgpath in dir.iterdir():\n",
        "      if imgpath.name.endswith('jpg'):\n",
        "        labels.append(dir.name)\n",
        "        imgarr = cv2.imread(str(imgpath),cv2.IMREAD_GRAYSCALE)\n",
        "        imgarr = cv2.resize(imgarr,(150,150))\n",
        "        features.append(imgarr)"
      ],
      "execution_count": null,
      "outputs": [
        {
          "output_type": "stream",
          "text": [
            "daisy\n",
            "rose\n",
            "sunflower\n",
            "dandelion\n"
          ],
          "name": "stdout"
        }
      ]
    },
    {
      "cell_type": "code",
      "metadata": {
        "id": "e2T1Mut0OXdJ"
      },
      "source": [
        "np.array(features).shape"
      ],
      "execution_count": null,
      "outputs": []
    },
    {
      "cell_type": "markdown",
      "metadata": {
        "id": "WLV5gNKI2CwC"
      },
      "source": [
        "Shuffling Data and Labels with Seed"
      ]
    },
    {
      "cell_type": "code",
      "metadata": {
        "id": "b89pHxr4P0AO"
      },
      "source": [
        "seed = np.random.randint(100)\n",
        "np.random.seed(seed)\n",
        "np.random.shuffle(features)\n",
        "np.random.seed(seed)\n",
        "np.random.shuffle(labels)"
      ],
      "execution_count": null,
      "outputs": []
    },
    {
      "cell_type": "markdown",
      "metadata": {
        "id": "koOszUWa2L9F"
      },
      "source": [
        "# **For One Hot Encode processing Data**"
      ]
    },
    {
      "cell_type": "code",
      "metadata": {
        "id": "VBZq_EjTWFe7"
      },
      "source": [
        "all_labels = pd.Series(labels)\n",
        "all_labels.unique()\n",
        "all_labels_cat = all_labels.astype('category')\n",
        "all_labels_cat"
      ],
      "execution_count": null,
      "outputs": []
    },
    {
      "cell_type": "code",
      "metadata": {
        "id": "043JKuzJjTdV"
      },
      "source": [
        "all_labels_cat = all_labels.astype('category').cat.codes\n",
        "print(all_labels_cat.head())\n",
        "from keras.utils.np_utils import to_categorical\n",
        "allEncodedLabels = to_categorical(all_labels_cat)\n",
        "len(allEncodedLabels)"
      ],
      "execution_count": null,
      "outputs": []
    },
    {
      "cell_type": "markdown",
      "metadata": {
        "id": "bsOutcCt2WgV"
      },
      "source": [
        "# **Dividing data in Training,validation and Testind datasets**"
      ]
    },
    {
      "cell_type": "code",
      "metadata": {
        "id": "C0egj8klSRSZ"
      },
      "source": [
        "data_len = len(features)\n",
        "train_data = features[:data_len*50//100]\n",
        "val_data = features[data_len*50//100:data_len*70//100]\n",
        "test_data = features[data_len*70//100:]\n",
        "labels_len = len(allEncodedLabels)\n",
        "train_labels = allEncodedLabels[:labels_len*50//100]\n",
        "val_labels = allEncodedLabels[labels_len*50//100:labels_len*70//100]\n",
        "test_labels = allEncodedLabels[labels_len*70//100:]"
      ],
      "execution_count": null,
      "outputs": []
    },
    {
      "cell_type": "code",
      "metadata": {
        "id": "FFBf-2UKSu4r"
      },
      "source": [
        "train_data = np.array(train_data)\n",
        "val_data = np.array(val_data)\n",
        "test_data = np.array(test_data)\n",
        "# tarin_data = np.array(train_data)\n",
        "# tarin_data = np.array(train_data)\n",
        "# tarin_data = np.array(train_data)"
      ],
      "execution_count": null,
      "outputs": []
    },
    {
      "cell_type": "markdown",
      "metadata": {
        "id": "oGNFTZ6o2kOT"
      },
      "source": [
        "# **ReShapeing and Vectorizing data**"
      ]
    },
    {
      "cell_type": "code",
      "metadata": {
        "id": "m4a8cunXS7Zx"
      },
      "source": [
        "train_data = train_data.reshape((2174,150*150))\n",
        "val_data = val_data.reshape((869,150*150))\n",
        "test_data = test_data.reshape((1305,150*150))\n",
        "train_data = train_data.astype(\"float32\")/255\n",
        "val_data = val_data.astype(\"float32\")/255\n",
        "test_data = test_data.astype(\"float32\")/255"
      ],
      "execution_count": null,
      "outputs": []
    },
    {
      "cell_type": "markdown",
      "metadata": {
        "id": "2QLlw6LK2shp"
      },
      "source": [
        "# **Preparing Model with Relu as activation function**"
      ]
    },
    {
      "cell_type": "code",
      "metadata": {
        "id": "UNwCkCM8Y5rG"
      },
      "source": [
        "from keras import models\n",
        "from keras import layers\n",
        "network = models.Sequential()\n",
        "network.add(layers.Dense(512, activation='relu', input_shape=(150*150,)))\n",
        "network.add(layers.Dense(256, activation='relu'))\n",
        "network.add(layers.Dense(5, activation='softmax'))"
      ],
      "execution_count": null,
      "outputs": []
    },
    {
      "cell_type": "code",
      "metadata": {
        "id": "GoPjkcXemSWg"
      },
      "source": [
        "network.compile(optimizer='rmsprop',\n",
        "loss='categorical_crossentropy',\n",
        "metrics=['accuracy'])"
      ],
      "execution_count": null,
      "outputs": []
    },
    {
      "cell_type": "code",
      "metadata": {
        "id": "VxsfGNagm-To"
      },
      "source": [
        "with tf.device('/device:GPU:1'):\n",
        "  model = network.fit(train_data, train_labels, epochs=100, batch_size=256,validation_data=(val_data,val_labels))"
      ],
      "execution_count": null,
      "outputs": []
    },
    {
      "cell_type": "code",
      "metadata": {
        "id": "67VoWv-D32wg"
      },
      "source": [
        "dict_hist = model.history\n",
        "accuracy = dict_hist['accuracy']\n",
        "Val_accuracy = dict_hist['val_accuracy']\n",
        "Val_loss = dict_hist['val_loss']\n",
        "loss = dict_hist['loss']"
      ],
      "execution_count": null,
      "outputs": []
    },
    {
      "cell_type": "code",
      "metadata": {
        "id": "3HzgbAZH4ga0"
      },
      "source": [
        "epoches = np.arange(1,len(dict_hist['accuracy'])+1)\n",
        "plt.plot(epoches,accuracy,'b',label=\"Training Accuracy\")\n",
        "plt.plot(epoches,Val_accuracy,'r',label=\"Validation Accuracy\")\n",
        "plt.title('Training and validation Accuracy')\n",
        "plt.xlabel(\"Epoches\")\n",
        "plt.ylabel(\"Accuracy\")\n",
        "plt.legend()\n",
        "# plt.show()"
      ],
      "execution_count": null,
      "outputs": []
    },
    {
      "cell_type": "code",
      "metadata": {
        "id": "ZEKe24tQ4-0v"
      },
      "source": [
        "epoches = np.arange(1,len(dict_hist['accuracy']) + 1)\n",
        "plt.plot(epoches,loss,'b',label=\"Training loss\")\n",
        "plt.plot(epoches,Val_loss,'r',label=\"Validation loss\")\n",
        "plt.title('Training and validation loss')\n",
        "plt.xlabel(\"Epoches\")\n",
        "plt.ylabel(\"Loss\")\n",
        "plt.legend()\n",
        "# plt.show()"
      ],
      "execution_count": null,
      "outputs": []
    },
    {
      "cell_type": "markdown",
      "metadata": {
        "id": "onAJ9qjy3nb0"
      },
      "source": [
        "# **Evaluation Step**"
      ]
    },
    {
      "cell_type": "code",
      "metadata": {
        "id": "YRnmAf7foJA_"
      },
      "source": [
        "test_loss, test_acc = network.evaluate(val_data, val_labels)"
      ],
      "execution_count": null,
      "outputs": []
    },
    {
      "cell_type": "markdown",
      "metadata": {
        "id": "DEO-0Gj9axi4"
      },
      "source": [
        "# **Prediction**"
      ]
    },
    {
      "cell_type": "code",
      "metadata": {
        "id": "4Iy1F3vHa2MW"
      },
      "source": [
        "predictions = network.predict(test_data)"
      ],
      "execution_count": null,
      "outputs": []
    },
    {
      "cell_type": "code",
      "metadata": {
        "id": "wmbueApkbQd4"
      },
      "source": [
        "y_p = predictions.flatten()\n",
        "y_t = test_labels.flatten()"
      ],
      "execution_count": null,
      "outputs": []
    },
    {
      "cell_type": "code",
      "metadata": {
        "id": "jT47xpO70PEy"
      },
      "source": [
        "tf.math.confusion_matrix(\n",
        "    y_p, y_t, num_classes=None, weights=None, dtype=tf.dtypes.int32,\n",
        "    name=None\n",
        ")"
      ],
      "execution_count": null,
      "outputs": []
    },
    {
      "cell_type": "code",
      "metadata": {
        "id": "ly_p0F8OYxhs"
      },
      "source": [
        ""
      ],
      "execution_count": null,
      "outputs": []
    }
  ]
}